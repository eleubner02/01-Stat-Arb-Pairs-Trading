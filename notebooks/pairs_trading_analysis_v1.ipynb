{
  "nbformat": 4,
  "nbformat_minor": 0,
  "metadata": {
    "colab": {
      "provenance": [],
      "authorship_tag": "ABX9TyO+7eWLKgEWS8eBtsAah/9a",
      "include_colab_link": true
    },
    "kernelspec": {
      "name": "python3",
      "display_name": "Python 3"
    },
    "language_info": {
      "name": "python"
    }
  },
  "cells": [
    {
      "cell_type": "markdown",
      "metadata": {
        "id": "view-in-github",
        "colab_type": "text"
      },
      "source": [
        "<a href=\"https://colab.research.google.com/github/eleubner02/01-Stat-Arb-Pairs-Trading/blob/main/notebooks/pairs_trading_analysis_v1.ipynb\" target=\"_parent\"><img src=\"https://colab.research.google.com/assets/colab-badge.svg\" alt=\"Open In Colab\"/></a>"
      ]
    },
    {
      "cell_type": "markdown",
      "source": [
        "# Pairs Trading Strategy: Stat Arb\n",
        "\n",
        "## Summary:\n",
        "\n",
        "* Project: Cointegration-based Statistical Arbitrage on LUV–AAL (2020–2024)\n",
        "* Method: OLS hedge ratio on log prices; residual z-score with shifted rolling stats; ENTRY=2.0, EXIT=0.5, z_window=60; time-stop=16 days; transaction costs 2 bps/leg on position changes.\n",
        "* Results: Sharpe 1.54, unlevered annualized return 2.49%, max drawdown −1.32%, 30 completed trades, win rate 76.7%, average holding 11.7 days, 46.7% exits via time-stop.\n",
        "* Notes: OLS beta b≈0.842, intercept≈1.278; ADF p≈0.027 on residual suggests stationarity.\n",
        "* Robustness: Sensitivity across ENTRY/EXIT, z_window, and time-stop variants. Chosen config balanced Sharpe and trade frequency."
      ],
      "metadata": {
        "id": "LQ6bRhVeAd1h"
      }
    },
    {
      "cell_type": "markdown",
      "source": [
        "# 1. Configuration and Imports"
      ],
      "metadata": {
        "id": "IUBY_FvsApI5"
      }
    },
    {
      "cell_type": "code",
      "execution_count": 145,
      "metadata": {
        "id": "sCtNl7JToXbC"
      },
      "outputs": [],
      "source": [
        "# !pip install yfinance"
      ]
    },
    {
      "cell_type": "code",
      "source": [
        "# Parameters\n",
        "stockA, stockB = 'LUV', 'AAL'\n",
        "START_DATE, END_DATE = '2020-01-01', '2025-01-01'\n",
        "\n",
        "ENTRY, EXIT = 2.0, 0.5\n",
        "Z_WINDOW = 60\n",
        "TIME_STOP_DAYS = 16\n",
        "\n",
        "BPS_PER_LEG = 0.0002\n",
        "INITIAL_CAPITAL = 100000.0\n",
        "NOTIONAL_LONG_LEG = 10000.0  # dollars on the A leg\n",
        "\n",
        "# Imports\n",
        "# Standard library\n",
        "import math\n",
        "from itertools import combinations\n",
        "import os\n",
        "\n",
        "# Third-party libraries\n",
        "import numpy as np\n",
        "import pandas as pd\n",
        "import yfinance as yf\n",
        "import statsmodels.api as sm\n",
        "from statsmodels.tsa.stattools import adfuller\n",
        "import matplotlib.pyplot as plt\n",
        "import matplotlib.ticker as ticker\n",
        "\n",
        "pd.set_option('display.float_format', lambda x: f'{x:,.6f}')"
      ],
      "metadata": {
        "id": "gpvprCOxoqro"
      },
      "execution_count": 146,
      "outputs": []
    },
    {
      "cell_type": "markdown",
      "source": [
        "# 2. Data Load"
      ],
      "metadata": {
        "id": "AcM0e8TuAvAw"
      }
    },
    {
      "cell_type": "code",
      "source": [
        "prices = yf.download([stockA, stockB], start=START_DATE, end=END_DATE, progress=False)['Close']\n",
        "prices = prices.dropna().sort_index()\n",
        "assert set([stockA, stockB]).issubset(prices.columns)"
      ],
      "metadata": {
        "colab": {
          "base_uri": "https://localhost:8080/"
        },
        "id": "p2fG36_MCWfZ",
        "outputId": "49c20d42-3df3-4740-89a0-c08b7aeb7f56"
      },
      "execution_count": 131,
      "outputs": [
        {
          "output_type": "stream",
          "name": "stderr",
          "text": [
            "/tmp/ipython-input-2067626206.py:1: FutureWarning: YF.download() has changed argument auto_adjust default to True\n",
            "  prices = yf.download([stockA, stockB], start=START_DATE, end=END_DATE, progress=False)['Close']\n"
          ]
        }
      ]
    },
    {
      "cell_type": "markdown",
      "source": [
        "# 3. Hedge Ratio, Spread, and Stationarity Test\n",
        "\n",
        "To construct a pairs trading strategy, we first need a **stationary spread** between two securities:\n",
        "\n",
        "1. **OLS Regression (Hedge Ratio):**  \n",
        "   We regress log-price of A on log-price of B:  \n",
        "   \n",
        "$$\n",
        "\\log(P_A) = a + b \\cdot \\log(P_B) + \\epsilon\n",
        "$$  \n",
        "   - Here, $b$ is the hedge ratio (how many dollars of B to hold per dollar of A).  \n",
        "   - The residual $\\epsilon$ represents the spread.\n",
        "\n",
        "2. **Spread Definition:**  \n",
        "   Residuals from this regression (`spread = logA – (a + b·logB)`) measure *temporary deviations* from a long-run equilibrium.  \n",
        "   If A and B are economically related (e.g., airlines exposed to the same fuel demand), we expect mean reversion of these residuals.\n",
        "\n",
        "3. **ADF Test (Stationarity Check):**  \n",
        "   The Augmented Dickey-Fuller (ADF) test formally asks:  \n",
        "   - **H₀:** The series has a unit root (non-stationary).  \n",
        "   - **H₁:** The series is stationary around a mean.  \n",
        "   We want a **p-value < 0.05** to reject H₀ and conclude the spread is stationary, making it a candidate for mean-reverting trading logic.\n"
      ],
      "metadata": {
        "id": "FY2lvw2OA3lI"
      }
    },
    {
      "cell_type": "code",
      "source": [
        "# Align and log-transform\n",
        "\n",
        "pxA = prices[stockA].dropna()\n",
        "pxB = prices[stockB].dropna()\n",
        "df = pd.concat([pxA, pxB], axis=1, keys=[stockA, stockB]).dropna()\n",
        "\n",
        "logA = np.log(df[stockA])\n",
        "logB = np.log(df[stockB])\n",
        "\n",
        "# OLS: logA = a + b*logB\n",
        "\n",
        "X = sm.add_constant(logB.values)\n",
        "ols = sm.OLS(logA.values, X).fit()\n",
        "a, b = ols.params[0], ols.params[1]\n",
        "\n",
        "# Residual spread (stationary candidate)\n",
        "\n",
        "spread = logA - (a + b*logB)"
      ],
      "metadata": {
        "id": "3uRSlW2Whojb"
      },
      "execution_count": 132,
      "outputs": []
    },
    {
      "cell_type": "markdown",
      "source": [
        "# 4. Z-Score Function\n",
        "\n",
        "The z-score serves as our signal to trade. The z-score is a normalized measure, which coupled with thresholds, tells us when we are far enough from the mean spread to execute our strategy."
      ],
      "metadata": {
        "id": "S06zkjNfAfKQ"
      }
    },
    {
      "cell_type": "code",
      "source": [
        "# z-score function. .shift(1) is crucial because it prevents lookahead bias by only focusing on data before a given date\n",
        "def zscore(x, window):\n",
        "    r = x.rolling(window=window)\n",
        "    m = r.mean().shift(1)\n",
        "    s = r.std(ddof=0).shift(1)\n",
        "    z = (x-m)/s\n",
        "    return z\n",
        "\n",
        "z = zscore(spread, Z_WINDOW)\n",
        "threshold = ENTRY\n",
        "\n",
        "adf_p = adfuller(spread.dropna())[1]\n",
        "cross_up = ((z.shift(1) <= threshold) & (z > threshold)).sum()\n",
        "cross_dn = ((z.shift(1) >= -threshold) & (z < -threshold)).sum()\n",
        "\n",
        "print(f\"Hedge ratio b: {b:.3f}, intercept a: {a:.4f}\")\n",
        "print(f\"ADF p-value on residual spread: {adf_p:.4f}\")"
      ],
      "metadata": {
        "colab": {
          "base_uri": "https://localhost:8080/"
        },
        "id": "4Mo0_xi_AqZl",
        "outputId": "7c63eb12-348a-4b48-d20f-26851da1a4d3"
      },
      "execution_count": 133,
      "outputs": [
        {
          "output_type": "stream",
          "name": "stdout",
          "text": [
            "Hedge ratio b: 0.842, intercept a: 1.2778\n",
            "ADF p-value on residual spread: 0.0268\n"
          ]
        }
      ]
    },
    {
      "cell_type": "markdown",
      "source": [
        "# 5. Final Backtest Function\n",
        "\n"
      ],
      "metadata": {
        "id": "SgoeoLJizohB"
      }
    },
    {
      "cell_type": "markdown",
      "source": [
        "**Description:**\n",
        "This feature implements a vectorized backtesting engine to simulate the performance of the statistical arbitrage pairs trading strategy. It iterates through historical price data on a daily basis, executes trades based on z-score signals, and tracks the portfolio's mark-to-market value over time.\n",
        "\n",
        "**Core Logic:**\n",
        "The engine operates on a daily loop with the following logic:\n",
        "1.  **Initialization:** The backtest begins with a predefined starting capital and a 'FLAT' (no-risk) position.\n",
        "2.  **Signal Generation:** Each day, it calculates the z-score of the pair's spread. If the z-score crosses a predefined entry threshold (e.g., >2.0 or <-2.0), a trade signal is generated.\n",
        "3.  **Trade Execution:** On a signal, if no position is currently held, the engine simulates a trade. It allocates a fixed amount of capital (e.g., $10,000) to both the long and short legs of the pair, calculates the number of shares, and updates the cash balance. The position state is updated to 'LONG' or 'SHORT'.\n",
        "4.  **Position Closing:** If a position is open and the z-score reverts toward the mean (e.g., `abs(z-score) < 0.5`), the position is closed. All holdings are sold at the current market price, cash is updated, and the position is reset to 'FLAT'.\n",
        "5.  **Daily Mark-to-Market:** At the end of every day, the engine calculates the total portfolio value by summing the current cash balance and the market value of any shares held. This daily value is stored to generate an equity curve.\n",
        "\n",
        "We present the main function `backtest_pairs()` used for the reported results.\n",
        "Simplified versions (`run_backtest`) appear later in Appendix A for parameter sweeps and robustness checks."
      ],
      "metadata": {
        "id": "NSmSeU5vEMsB"
      }
    },
    {
      "cell_type": "code",
      "source": [
        "def backtest_pairs(entry=ENTRY, exit_=EXIT, z_window=Z_WINDOW, time_stop_days=TIME_STOP_DAYS, use_time_stop=True,\n",
        "                   initial_capital=INITIAL_CAPITAL, bps_per_leg=BPS_PER_LEG, notional_long_leg=NOTIONAL_LONG_LEG):\n",
        "    # Build z and align\n",
        "    z_local = zscore(spread, z_window).dropna()\n",
        "    df_local = prices.loc[z_local.index]\n",
        "\n",
        "    equity = initial_capital\n",
        "    pos = 0\n",
        "    shares_A = shares_B = 0\n",
        "    trade_pnl = 0.0\n",
        "    holding_days = 0\n",
        "\n",
        "    dates_list, equity_list, trades_log = [], [], []\n",
        "\n",
        "    def position_sizes_long_spread(beta, pA, pB, notionalA):\n",
        "        shA = math.floor(notionalA / pA)\n",
        "        shB = -math.floor(beta * notionalA / pB)\n",
        "        return shA, shB\n",
        "\n",
        "    def position_sizes_short_spread(beta, pA, pB, notionalA):\n",
        "        shA = -math.floor(notionalA / pA)\n",
        "        shB = math.floor(beta * notionalA / pB)\n",
        "        return shA, shB\n",
        "\n",
        "    def trade_cost(shA, pA, shB, pB, bps):\n",
        "        traded_notional = abs(shA)*pA + abs(shB)*pB\n",
        "        return bps * traded_notional\n",
        "\n",
        "    dates = df_local.index\n",
        "    for t in range(z_window, len(dates)):\n",
        "        d = dates[t]\n",
        "        pA_prev = df_local[stockA].iloc[t-1]\n",
        "        pB_prev = df_local[stockB].iloc[t-1]\n",
        "        pA = df_local[stockA].iloc[t]\n",
        "        pB = df_local[stockB].iloc[t]\n",
        "\n",
        "        # Accrue P&L\n",
        "        if pos != 0:\n",
        "            day_pnl = shares_A * (pA - pA_prev) + shares_B * (pB - pB_prev)\n",
        "            equity += day_pnl\n",
        "            trade_pnl += day_pnl\n",
        "            holding_days += 1\n",
        "\n",
        "        # Exit: revert or time-stop\n",
        "        exit_signal = (pos != 0) and (abs(z_local.iloc[t]) < exit_)\n",
        "        time_stop_hit = (pos != 0) and use_time_stop and (holding_days >= time_stop_days)\n",
        "        if exit_signal or time_stop_hit:\n",
        "            cost = trade_cost(shares_A, pA, shares_B, pB, bps_per_leg)\n",
        "            equity -= cost\n",
        "            trades_log.append({\n",
        "                'date': d, 'action': 'EXIT', 'pos': pos, 'z': float(z_local.iloc[t]),\n",
        "                'pnl': trade_pnl, 'cost': cost, 'holding_days': holding_days,\n",
        "                'shares_A': shares_A, 'shares_B': shares_B, 'price_A': pA, 'price_B': pB,\n",
        "                'reason': 'TIME_STOP' if time_stop_hit and not exit_signal else ('REVERT' if exit_signal and not time_stop_hit else 'REVERT+TIME_STOP')\n",
        "            })\n",
        "            pos = 0\n",
        "            shares_A = shares_B = 0\n",
        "            trade_pnl = 0.0\n",
        "            holding_days = 0\n",
        "\n",
        "        # Entry\n",
        "        if pos == 0:\n",
        "            if z_local.iloc[t] < -entry:\n",
        "                shA, shB = position_sizes_long_spread(b, pA, pB, notional_long_leg)\n",
        "                if shA != 0 and shB != 0:\n",
        "                    cost = trade_cost(shA, pA, shB, pB, bps_per_leg)\n",
        "                    equity -= cost\n",
        "                    pos = 1\n",
        "                    shares_A, shares_B = shA, shB\n",
        "                    trade_pnl = 0.0\n",
        "                    holding_days = 0\n",
        "                    trades_log.append({'date': d, 'action': 'ENTER_LONG', 'pos': pos, 'z': float(z_local.iloc[t]),\n",
        "                                       'cost': cost, 'shares_A': shares_A, 'shares_B': shares_B,\n",
        "                                       'price_A': pA, 'price_B': pB})\n",
        "            elif z_local.iloc[t] > entry:\n",
        "                shA, shB = position_sizes_short_spread(b, pA, pB, notional_long_leg)\n",
        "                if shA != 0 and shB != 0:\n",
        "                    cost = trade_cost(shA, pA, shB, pB, bps_per_leg)\n",
        "                    equity -= cost\n",
        "                    pos = -1\n",
        "                    shares_A, shares_B = shA, shB\n",
        "                    trade_pnl = 0.0\n",
        "                    holding_days = 0\n",
        "                    trades_log.append({'date': d, 'action': 'ENTER_SHORT', 'pos': pos, 'z': float(z_local.iloc[t]),\n",
        "                                       'cost': cost, 'shares_A': shares_A, 'shares_B': shares_B,\n",
        "                                       'price_A': pA, 'price_B': pB})\n",
        "\n",
        "        dates_list.append(d)\n",
        "        equity_list.append(equity)\n",
        "\n",
        "    trades_df = pd.DataFrame(trades_log)\n",
        "    portfolio_df = pd.DataFrame({'Portfolio_Value': equity_list}, index=pd.DatetimeIndex(dates_list)).sort_index()\n",
        "    portfolio_df['Daily_Return'] = portfolio_df['Portfolio_Value'].pct_change()\n",
        "    daily = portfolio_df['Daily_Return'].dropna()\n",
        "\n",
        "    sharpe = float(np.sqrt(252) * daily.mean() / daily.std()) if len(daily) else np.nan\n",
        "    ann_return = float((1 + daily).prod()**(252/len(daily)) - 1) if len(daily) else np.nan\n",
        "    portfolio_df['Peak'] = portfolio_df['Portfolio_Value'].cummax()\n",
        "    portfolio_df['Drawdown'] = portfolio_df['Portfolio_Value'] / portfolio_df['Peak'] - 1\n",
        "    max_dd = float(portfolio_df['Drawdown'].min())\n",
        "\n",
        "    exits_df = trades_df[trades_df['action']=='EXIT'].copy() if not trades_df.empty else pd.DataFrame()\n",
        "    win_rate = float((exits_df['pnl'] > 0).mean()) if not exits_df.empty else np.nan\n",
        "    avg_hold = float(exits_df['holding_days'].mean()) if 'holding_days' in exits_df else np.nan\n",
        "    time_stop_share = float((exits_df['reason'] == 'TIME_STOP').mean()) if 'reason' in exits_df else np.nan\n",
        "\n",
        "    metrics = {'ENTRY': entry, 'EXIT': exit_, 'z_window': z_window, 'time_stop_days': time_stop_days,\n",
        "               'Sharpe': sharpe, 'AnnRet': ann_return, 'MaxDD': max_dd, 'Trades': int(len(exits_df)),\n",
        "               'WinRate': win_rate, 'AvgHoldDays': avg_hold, 'TimeStopShare': time_stop_share}\n",
        "    return metrics, trades_df, portfolio_df, z_local"
      ],
      "metadata": {
        "id": "ToJyTPFECzj5"
      },
      "execution_count": 134,
      "outputs": []
    },
    {
      "cell_type": "markdown",
      "source": [
        "# 6. Final Backtest with Chosen Parameters"
      ],
      "metadata": {
        "id": "Cm4NToj5BXzr"
      }
    },
    {
      "cell_type": "markdown",
      "source": [
        "**Next Steps:**\n",
        "- Plot the `portfolio_value_history` to visualize the strategy's equity curve.\n",
        "- Calculate key performance metrics (e.g., Sharpe Ratio, Total Return, Max Drawdown)"
      ],
      "metadata": {
        "id": "epuHdBktExaR"
      }
    },
    {
      "cell_type": "code",
      "source": [
        "final_metrics, trades_df, portfolio_df, z_used = backtest_pairs(\n",
        "    entry=ENTRY, exit_=EXIT, z_window=Z_WINDOW, time_stop_days=TIME_STOP_DAYS, use_time_stop=True\n",
        ")\n",
        "print(pd.Series(final_metrics))"
      ],
      "metadata": {
        "colab": {
          "base_uri": "https://localhost:8080/"
        },
        "id": "tOjyngDqC3s-",
        "outputId": "e0ed7f30-b025-4ce8-c27c-a2b4a34114a7"
      },
      "execution_count": 135,
      "outputs": [
        {
          "output_type": "stream",
          "name": "stdout",
          "text": [
            "ENTRY             2.000000\n",
            "EXIT              0.500000\n",
            "z_window         60.000000\n",
            "time_stop_days   16.000000\n",
            "Sharpe            1.540935\n",
            "AnnRet            0.024941\n",
            "MaxDD            -0.013193\n",
            "Trades           30.000000\n",
            "WinRate           0.766667\n",
            "AvgHoldDays      11.733333\n",
            "TimeStopShare     0.466667\n",
            "dtype: float64\n"
          ]
        }
      ]
    },
    {
      "cell_type": "markdown",
      "source": [
        "# 7. Plots"
      ],
      "metadata": {
        "id": "6n396np8BgXH"
      }
    },
    {
      "cell_type": "code",
      "source": [
        "# === Equity curve + Cumulative returns ===\n",
        "fig, ax = plt.subplots(1, 2, figsize=(14, 5))\n",
        "\n",
        "ax[0].plot(portfolio_df.index, portfolio_df['Portfolio_Value'], color='navy', lw=2)\n",
        "ax[0].set_title('Equity Curve', fontsize=12)\n",
        "ax[0].yaxis.set_major_formatter(ticker.FuncFormatter(lambda x, p: f'${x:,.0f}'))\n",
        "ax[0].grid(True, alpha=0.3)\n",
        "\n",
        "cum_ret = portfolio_df['Portfolio_Value'] / INITIAL_CAPITAL - 1.0\n",
        "ax[1].plot(cum_ret.index, 100*cum_ret, color='seagreen', lw=2, label='Strategy')\n",
        "ax[1].axhline(0, color='black', lw=1, alpha=0.5)\n",
        "ax[1].set_title('Cumulative Return (%)', fontsize=12)\n",
        "ax[1].set_ylabel('%')\n",
        "ax[1].grid(True, alpha=0.3)\n",
        "ax[1].legend()\n",
        "\n",
        "plt.tight_layout()\n",
        "fig.savefig(\"figures/equity_curve.png\", dpi=150, bbox_inches=\"tight\")  # save ✅\n",
        "plt.show()\n",
        "\n",
        "# === Z-score with trade markers ===\n",
        "fig, ax = plt.subplots(figsize=(14, 5))\n",
        "ax.plot(z_used.index, z_used.values, color='slategray', lw=1.5, label='z-score')\n",
        "ax.axhline(ENTRY, color='firebrick', ls='--', lw=1)\n",
        "ax.axhline(-ENTRY, color='firebrick', ls='--', lw=1)\n",
        "ax.axhline(0, color='black', lw=0.8, alpha=0.5)\n",
        "\n",
        "entries_long = trades_df[trades_df['action']=='ENTER_LONG']['date']\n",
        "entries_short = trades_df[trades_df['action']=='ENTER_SHORT']['date']\n",
        "exits = trades_df[trades_df['action']=='EXIT']['date']\n",
        "\n",
        "ax.scatter(entries_long, z_used.loc[entries_long], marker='^', color='green', s=50, label='Enter Long', zorder=3)\n",
        "ax.scatter(entries_short, z_used.loc[entries_short], marker='v', color='red', s=50, label='Enter Short', zorder=3)\n",
        "ax.scatter(exits, z_used.loc[exits], marker='o', facecolors='none', edgecolors='black', s=50, label='Exit', zorder=3)\n",
        "\n",
        "ax.set_title(f\"Residual Z-score with Trades (window={final_metrics['z_window']})\", fontsize=12)\n",
        "ax.legend()\n",
        "ax.grid(True, alpha=0.3)\n",
        "\n",
        "fig.savefig(\"figures/zscore_trades.png\", dpi=150, bbox_inches=\"tight\")  # save ✅\n",
        "plt.show()\n",
        "\n",
        "# === Save Trades CSV ===\n",
        "trades_df.to_csv(\"trades.csv\", index=False)\n",
        "print(\"Artifacts saved → figures/equity_curve.png, figures/zscore_trades.png, trades.csv\")"
      ],
      "metadata": {
        "colab": {
          "base_uri": "https://localhost:8080/",
          "height": 527
        },
        "id": "kSr0yt9RC8EG",
        "outputId": "04ed0ca6-488e-4195-946b-d19a3a9ab221"
      },
      "execution_count": 136,
      "outputs": [
        {
          "output_type": "display_data",
          "data": {
            "text/plain": [
              "<Figure size 1400x500 with 2 Axes>"
            ],
            "image/png": "[encoded data removed]"
          },
          "metadata": {}
        },
        {
          "output_type": "display_data",
          "data": {
            "text/plain": [
              "<Figure size 1400x500 with 1 Axes>"
            ],
            "image/png": "[encoded data removed]"
          },
          "metadata": {}
        },
        {
          "output_type": "stream",
          "name": "stdout",
          "text": [
            "Artifacts saved → figures/equity_curve.png, figures/zscore_trades.png, trades.csv\n"
          ]
        }
      ]
    },
    {
      "cell_type": "markdown",
      "source": [
        "# 8. Metrics Summary\n",
        "\n",
        "* Results (2020–2024): Sharpe 1.54, unlevered annualized return 2.49%, max drawdown −1.32%.\n",
        "* Trades: 30 completed, win rate 76.7%, average holding 11.7 days; 46.7% exits via time-stop.\n",
        "* Costs: 2 bps/leg on entries/exits; applied only when positions change.\n",
        "* Construction: Dollar-neutral sizing using OLS beta b≈0.842"
      ],
      "metadata": {
        "id": "Zd4pVXpxBkiS"
      }
    },
    {
      "cell_type": "code",
      "source": [
        "pd.Series(final_metrics)"
      ],
      "metadata": {
        "id": "_JA9nM0G7Wrb",
        "outputId": "4517b3b6-6199-454e-ece3-5e79b562db48",
        "colab": {
          "base_uri": "https://localhost:8080/",
          "height": 424
        }
      },
      "execution_count": 137,
      "outputs": [
        {
          "output_type": "execute_result",
          "data": {
            "text/plain": [
              "ENTRY             2.000000\n",
              "EXIT              0.500000\n",
              "z_window         60.000000\n",
              "time_stop_days   16.000000\n",
              "Sharpe            1.540935\n",
              "AnnRet            0.024941\n",
              "MaxDD            -0.013193\n",
              "Trades           30.000000\n",
              "WinRate           0.766667\n",
              "AvgHoldDays      11.733333\n",
              "TimeStopShare     0.466667\n",
              "dtype: float64"
            ],
            "text/html": [
              "<div>\n",
              "<style scoped>\n",
              "    .dataframe tbody tr th:only-of-type {\n",
              "        vertical-align: middle;\n",
              "    }\n",
              "\n",
              "    .dataframe tbody tr th {\n",
              "        vertical-align: top;\n",
              "    }\n",
              "\n",
              "    .dataframe thead th {\n",
              "        text-align: right;\n",
              "    }\n",
              "</style>\n",
              "<table border=\"1\" class=\"dataframe\">\n",
              "  <thead>\n",
              "    <tr style=\"text-align: right;\">\n",
              "      <th></th>\n",
              "      <th>0</th>\n",
              "    </tr>\n",
              "  </thead>\n",
              "  <tbody>\n",
              "    <tr>\n",
              "      <th>ENTRY</th>\n",
              "      <td>2.000000</td>\n",
              "    </tr>\n",
              "    <tr>\n",
              "      <th>EXIT</th>\n",
              "      <td>0.500000</td>\n",
              "    </tr>\n",
              "    <tr>\n",
              "      <th>z_window</th>\n",
              "      <td>60.000000</td>\n",
              "    </tr>\n",
              "    <tr>\n",
              "      <th>time_stop_days</th>\n",
              "      <td>16.000000</td>\n",
              "    </tr>\n",
              "    <tr>\n",
              "      <th>Sharpe</th>\n",
              "      <td>1.540935</td>\n",
              "    </tr>\n",
              "    <tr>\n",
              "      <th>AnnRet</th>\n",
              "      <td>0.024941</td>\n",
              "    </tr>\n",
              "    <tr>\n",
              "      <th>MaxDD</th>\n",
              "      <td>-0.013193</td>\n",
              "    </tr>\n",
              "    <tr>\n",
              "      <th>Trades</th>\n",
              "      <td>30.000000</td>\n",
              "    </tr>\n",
              "    <tr>\n",
              "      <th>WinRate</th>\n",
              "      <td>0.766667</td>\n",
              "    </tr>\n",
              "    <tr>\n",
              "      <th>AvgHoldDays</th>\n",
              "      <td>11.733333</td>\n",
              "    </tr>\n",
              "    <tr>\n",
              "      <th>TimeStopShare</th>\n",
              "      <td>0.466667</td>\n",
              "    </tr>\n",
              "  </tbody>\n",
              "</table>\n",
              "</div><br><label><b>dtype:</b> float64</label>"
            ]
          },
          "metadata": {},
          "execution_count": 137
        }
      ]
    },
    {
      "cell_type": "markdown",
      "source": [
        "# 9. Push Artifacts to Github"
      ],
      "metadata": {
        "id": "234iBEAH2KQh"
      }
    },
    {
      "cell_type": "code",
      "source": [
        "# Configure git inside Colab (first time per runtime)\n",
        "!git config --global user.email \"your_email@example.com\"\n",
        "!git config --global user.name \"eleubner02\"\n",
        "\n",
        "# Move into repo folder (if not cloned yet, clone it first)\n",
        "%cd /content\n",
        "!rm -rf 01-Stat-Arb-Pairs-Trading   # clean if already exists\n",
        "!git clone https://github.com/eleubner02/01-Stat-Arb-Pairs-Trading.git\n",
        "%cd 01-Stat-Arb-Pairs-Trading\n",
        "\n",
        "# Copy artifacts from Colab /content to repo folder\n",
        "!mkdir -p figures\n",
        "!cp /content/figures/*.png figures/\n",
        "!cp /content/trades.csv .\n",
        "\n",
        "# Add, commit, push\n",
        "!git add figures/*.png trades.csv\n",
        "!git commit -m \"Add/Update backtest artifacts\"\n",
        "\n",
        "# Use the PAT for authentication\n",
        "# Replace 'your_github_username' with your GitHub username and 'YOUR_PAT_SECRET_NAME' with the name you used in Colab Secrets for your PAT\n",
        "from google.colab import userdata\n",
        "github_pat = userdata.get('GITHUB_PAT') # Replace 'YOUR_PAT_SECRET_NAME' with the name of your secret\n",
        "\n",
        "# Construct the remote URL with the PAT for authentication\n",
        "# You might need to adjust the URL format based on your repository and how you set up the PAT\n",
        "repo_url = f\"https://{github_pat}@github.com/eleubner02/01-Stat-Arb-Pairs-Trading.git\"\n",
        "!git push {repo_url} main"
      ],
      "metadata": {
        "colab": {
          "base_uri": "https://localhost:8080/"
        },
        "id": "egUG0TT_2OFS",
        "outputId": "617cc427-f07d-4f17-d33f-7229f1562053"
      },
      "execution_count": 138,
      "outputs": [
        {
          "output_type": "stream",
          "name": "stdout",
          "text": [
            "/content\n",
            "Cloning into '01-Stat-Arb-Pairs-Trading'...\n",
            "remote: Enumerating objects: 102, done.\u001b[K\n",
            "remote: Counting objects: 100% (102/102), done.\u001b[K\n",
            "remote: Compressing objects: 100% (98/98), done.\u001b[K\n",
            "remote: Total 102 (delta 44), reused 7 (delta 1), pack-reused 0 (from 0)\u001b[K\n",
            "Receiving objects: 100% (102/102), 1.48 MiB | 6.56 MiB/s, done.\n",
            "Resolving deltas: 100% (44/44), done.\n",
            "/content/01-Stat-Arb-Pairs-Trading\n",
            "On branch main\n",
            "Your branch is up to date with 'origin/main'.\n",
            "\n",
            "nothing to commit, working tree clean\n",
            "Everything up-to-date\n"
          ]
        }
      ]
    },
    {
      "cell_type": "markdown",
      "source": [
        "# Appendix\n",
        "\n",
        "The following sections contain exploratory code for screening candidate pairs and parameter sweeps.\n",
        "\n",
        "These are **supporting analyses** — not needed to reproduce the main result, but kept here for transparency."
      ],
      "metadata": {
        "id": "FqmBtESDB5F3"
      }
    },
    {
      "cell_type": "markdown",
      "source": [
        "## A1: Screening (Code)\n",
        "\n"
      ],
      "metadata": {
        "id": "xZlwT5uA-zv5"
      }
    },
    {
      "cell_type": "code",
      "source": [
        "stockA = 'PEP'\n",
        "stockB = 'KO'\n",
        "\n",
        "data = yf.download([stockA, stockB], start='2020-01-01', end='2025-01-01')"
      ],
      "metadata": {
        "colab": {
          "base_uri": "https://localhost:8080/"
        },
        "id": "s4HGz6Nzo3xZ",
        "outputId": "304f6a2c-7cec-4cfc-c954-a49f07a9210b"
      },
      "execution_count": 139,
      "outputs": [
        {
          "output_type": "stream",
          "name": "stderr",
          "text": [
            "/tmp/ipython-input-308995636.py:4: FutureWarning: YF.download() has changed argument auto_adjust default to True\n",
            "  data = yf.download([stockA, stockB], start='2020-01-01', end='2025-01-01')\n",
            "[*********************100%***********************]  2 of 2 completed\n"
          ]
        }
      ]
    },
    {
      "cell_type": "markdown",
      "source": [
        "Next, I will perform the Engle-Granger test to check for cointegration. This is critical because a stationary spread is required for a mean-reverting strategy to be viable."
      ],
      "metadata": {
        "id": "lHmlh5W_m9nX"
      }
    },
    {
      "cell_type": "code",
      "source": [
        "test_statistic, p_value, critical_values = sm.tsa.stattools.coint(data['Close'][stockA], data['Close'][stockB], trend='c', method='aeg', maxlag=None, autolag='aic', return_results=None)\n",
        "\n",
        "print(f\"Cointegration Test Results:\")\n",
        "print(f\"  Test Statistic: {test_statistic}\")\n",
        "print(f\"  P-value: {p_value}\")\n",
        "print(f\"  Critical Values (1%, 5%, 10%): {critical_values}\")\n",
        "\n",
        "if p_value < 0.05:\n",
        "    print(\"\\nBased on the p-value, we can reject the null hypothesis and conclude that \", stockA, \" and \", stockB, \" are likely cointegrated.\")\n",
        "else:\n",
        "    print(\"\\nBased on the p-value, we cannot reject the null hypothesis and there is not enough evidence to conclude that \", stockA, \" and \", stockB, \" are cointegrated.\")"
      ],
      "metadata": {
        "colab": {
          "base_uri": "https://localhost:8080/"
        },
        "id": "zrjvIGYISRVP",
        "outputId": "c5703423-247d-4ef4-ea4c-d8007c2b55c7"
      },
      "execution_count": 140,
      "outputs": [
        {
          "output_type": "stream",
          "name": "stdout",
          "text": [
            "Cointegration Test Results:\n",
            "  Test Statistic: -2.113591941495361\n",
            "  P-value: 0.46926446017106765\n",
            "  Critical Values (1%, 5%, 10%): [-3.90517395 -3.34099518 -3.04782579]\n",
            "\n",
            "Based on the p-value, we cannot reject the null hypothesis and there is not enough evidence to conclude that  PEP  and  KO  are cointegrated.\n"
          ]
        }
      ]
    },
    {
      "cell_type": "markdown",
      "source": [
        "### Cointegration Test Analysis\n",
        "\n",
        "The Engle-Granger test resulted in a p-value of 0.469. The null hypothesis for this test is that the two series are not cointegrated. Since our p-value (0.469) is significantly greater than the standard significance level of 0.05, we fail to reject the null hypothesis.\n",
        "\n",
        "**Conclusion:** There is no statistical evidence in this dataset to suggest that PEP and KO are cointegrated. Therefore, they are not a suitable pair for this pairs trading strategy."
      ],
      "metadata": {
        "id": "EKvFGmHIipq6"
      }
    },
    {
      "cell_type": "markdown",
      "source": [
        "Since PEP-KO failed cointegration, let's systematically find a better pair by iterating through a promising screening universe.\n",
        "\n",
        "### Systematic Cointegration Screening"
      ],
      "metadata": {
        "id": "vv_sl8AHwEdu"
      }
    },
    {
      "cell_type": "code",
      "source": [
        "screening_universe = {\n",
        "    # Near-identical ETFs (highest probability)\n",
        "    'gold_etfs': ['GLD', 'IAU'],\n",
        "    'silver_etfs': ['SLV', 'SIVR'],\n",
        "\n",
        "    # Sector ETFs\n",
        "    'financials': ['XLF', 'KBE'],\n",
        "    'energy': ['XLE', 'XOP'],\n",
        "\n",
        "    # Classic pairs\n",
        "    'major_banks': ['JPM', 'BAC'],\n",
        "    'energy_majors': ['XOM', 'CVX'],\n",
        "    'airlines': ['DAL', 'UAL', 'LUV', 'AAL'],\n",
        "    'retail': ['WMT', 'TGT'],\n",
        "}\n",
        "\n",
        "# Download data for all tickers\n",
        "all_tickers = []\n",
        "for category_tickers in screening_universe.values():\n",
        "    all_tickers.extend(category_tickers)\n",
        "all_tickers = list(set(all_tickers))  # Remove duplicates\n",
        "\n",
        "print(f\"\\nDownloading data for {len(all_tickers)} tickers...\")\n",
        "all_data = yf.download(all_tickers, start='2020-01-01', end='2025-01-01', progress=False)['Close']\n",
        "\n",
        "# Store results\n",
        "cointegration_results = []\n",
        "\n",
        "# Test each category\n",
        "for category, tickers in screening_universe.items():\n",
        "    print(f\"\\nTesting {category}...\")\n",
        "\n",
        "    # Generate all pairs within category\n",
        "    pairs = list(combinations(tickers, 2))\n",
        "\n",
        "    for ticker1, ticker2 in pairs:\n",
        "        try:\n",
        "            # Get price series\n",
        "            series1 = all_data[ticker1].dropna()\n",
        "            series2 = all_data[ticker2].dropna()\n",
        "\n",
        "            # Find common dates\n",
        "            common_dates = series1.index.intersection(series2.index)\n",
        "            if len(common_dates) < 252:  # Need at least 1 year\n",
        "                continue\n",
        "\n",
        "            # Align series\n",
        "            s1 = series1[common_dates]\n",
        "            s2 = series2[common_dates]\n",
        "\n",
        "            # Run cointegration test\n",
        "            test_stat, p_value, crit_values = sm.tsa.stattools.coint(s1, s2)\n",
        "\n",
        "            # Store result\n",
        "            cointegration_results.append({\n",
        "                'pair': f\"{ticker1}-{ticker2}\",\n",
        "                'ticker1': ticker1,\n",
        "                'ticker2': ticker2,\n",
        "                'category': category,\n",
        "                'p_value': p_value,\n",
        "                'test_stat': test_stat,\n",
        "                'num_days': len(common_dates)\n",
        "            })\n",
        "\n",
        "            # Print if significant\n",
        "            if p_value < 0.05:\n",
        "                print(f\"  ✓ Found cointegrated pair: {ticker1}-{ticker2} (p={p_value:.4f})\")\n",
        "\n",
        "        except Exception as e:\n",
        "            print(f\"  Error with {ticker1}-{ticker2}: {str(e)}\")\n",
        "            continue\n",
        "\n",
        "# Create results dataframe and sort by p-value\n",
        "results_df = pd.DataFrame(cointegration_results)\n",
        "results_df = results_df.sort_values('p_value').reset_index(drop=True)\n",
        "\n",
        "print(\"\\n\" + \"-\"*60)\n",
        "print(\"TOP 10 CANDIDATES (sorted by p-value):\")\n",
        "print(\"-\"*60)\n",
        "print(results_df[['pair', 'category', 'p_value', 'num_days']].head(10))\n",
        "\n",
        "# Select the best pair\n",
        "if len(results_df[results_df['p_value'] < 0.05]) > 0:\n",
        "    best_pair = results_df.iloc[0]\n",
        "    print(\"\\n\" + \"=\"*60)\n",
        "    print(f\"SELECTED PAIR: {best_pair['ticker1']} - {best_pair['ticker2']}\")\n",
        "    print(f\"Category: {best_pair['category']}\")\n",
        "    print(f\"P-value: {best_pair['p_value']:.4f}\")\n",
        "    print(f\"Days of data: {best_pair['num_days']}\")\n",
        "    print(\"=\"*60)\n",
        "\n",
        "    # Update your variables for the rest of the notebook\n",
        "    stockA = best_pair['ticker1']\n",
        "    stockB = best_pair['ticker2']\n",
        "\n",
        "    # Re-download just this pair's data for consistency\n",
        "    data = yf.download([stockA, stockB], start='2020-01-01', end='2025-01-01')\n",
        "else:\n",
        "    print(\"\\nNo significant cointegrated pairs found.\")"
      ],
      "metadata": {
        "colab": {
          "base_uri": "https://localhost:8080/"
        },
        "id": "LTXTPvUTwTkq",
        "outputId": "fc5feeea-3c0b-4ee4-cd76-01db1593f70e"
      },
      "execution_count": 141,
      "outputs": [
        {
          "output_type": "stream",
          "name": "stderr",
          "text": [
            "/tmp/ipython-input-4194495947.py:24: FutureWarning: YF.download() has changed argument auto_adjust default to True\n",
            "  all_data = yf.download(all_tickers, start='2020-01-01', end='2025-01-01', progress=False)['Close']\n"
          ]
        },
        {
          "output_type": "stream",
          "name": "stdout",
          "text": [
            "\n",
            "Downloading data for 18 tickers...\n",
            "\n",
            "Testing gold_etfs...\n",
            "\n",
            "Testing silver_etfs...\n",
            "\n",
            "Testing financials...\n",
            "\n",
            "Testing energy...\n",
            "\n",
            "Testing major_banks...\n",
            "\n",
            "Testing energy_majors...\n",
            "\n",
            "Testing airlines...\n",
            "\n",
            "Testing retail...\n",
            "\n",
            "------------------------------------------------------------\n",
            "TOP 10 CANDIDATES (sorted by p-value):\n",
            "------------------------------------------------------------\n",
            "       pair       category  p_value  num_days\n",
            "0   LUV-AAL       airlines 0.062486      1258\n",
            "1   DAL-UAL       airlines 0.378506      1258\n",
            "2   XOM-CVX  energy_majors 0.385612      1258\n",
            "3   XLE-XOP         energy 0.456365      1258\n",
            "4   GLD-IAU      gold_etfs 0.719782      1258\n",
            "5   DAL-LUV       airlines 0.742016      1258\n",
            "6  SLV-SIVR    silver_etfs 0.772771      1258\n",
            "7   XLF-KBE     financials 0.801877      1258\n",
            "8   UAL-LUV       airlines 0.853797      1258\n",
            "9   DAL-AAL       airlines 0.873281      1258\n",
            "\n",
            "No significant cointegrated pairs found.\n"
          ]
        }
      ]
    },
    {
      "cell_type": "markdown",
      "source": [],
      "metadata": {
        "id": "fJ6PzS3vIfuH"
      }
    },
    {
      "cell_type": "markdown",
      "source": [
        "While we still fall short of our desired significance level (0.05), the airline stock pair LUV-AAL shows a promising p-value of about 0.06. We also know airlines are economically linked through:\n",
        "\n",
        "*   Fuel Costs\n",
        "*   Regulatory Environment\n",
        "*   Consumer demand patterns\n",
        "\n",
        "Therefore, we have decent evidence of cointegration and economic sense for a pairs trading strategy, so our analysis will proceed with LUV-AAL."
      ],
      "metadata": {
        "id": "IRTp6rWYyUBX"
      }
    },
    {
      "cell_type": "markdown",
      "source": [
        "## A2: Parameter sweeps (Code)"
      ],
      "metadata": {
        "id": "gzqGS55vBxhT"
      }
    },
    {
      "cell_type": "code",
      "source": [
        "# ===== Step 4A: Sweep ENTRY/EXIT with z_window fixed at 30 =====\n",
        "\n",
        "stockA = 'LUV'\n",
        "stockB = 'AAL'\n",
        "prices = yf.download([stockA, stockB], start='2020-01-01', end='2025-01-01')['Close']\n",
        "\n",
        "def run_backtest(entry, exit_, z_window=30, bps_per_leg=0.0002, notional_long_leg=10000.0):\n",
        "    # Use the global 'prices' DataFrame which contains data for all tickers\n",
        "    pxA_local = prices[stockA].dropna()\n",
        "    pxB_local = prices[stockB].dropna()\n",
        "    df_local = pd.concat([pxA_local, pxB_local], axis=1, keys=[stockA, stockB]).dropna()\n",
        "\n",
        "    logA_local = np.log(df_local[stockA])\n",
        "    logB_local = np.log(df_local[stockB])\n",
        "\n",
        "    # OLS: logA = a + b*logB (recompute for the potentially filtered df_local)\n",
        "    X_local = sm.add_constant(logB_local.values)\n",
        "    ols_local = sm.OLS(logA_local.values, X_local).fit()\n",
        "    a_local, b_local = ols_local.params[0], ols_local.params[1]\n",
        "\n",
        "    # Residual spread (stationary candidate)\n",
        "    spread_local = logA_local - (a_local + b_local*logB_local)\n",
        "    z_local = zscore(spread_local, z_window).dropna()\n",
        "\n",
        "    # Ensure df_local is aligned with the non-NaN z_local\n",
        "    df_local = df_local.loc[z_local.index]\n",
        "\n",
        "\n",
        "    # State\n",
        "    initial_capital = 100000.0\n",
        "    equity = initial_capital\n",
        "    pos = 0\n",
        "    shares_A = shares_B = 0\n",
        "    trade_pnl = 0.0\n",
        "    holding_days = 0\n",
        "\n",
        "    portfolio_value_history = []\n",
        "    dates_list = []\n",
        "    trades_log_local = []\n",
        "\n",
        "    def position_sizes_long_spread(beta, pA, pB, notionalA):\n",
        "        shA = math.floor(notionalA / pA)\n",
        "        shB = -math.floor(beta * notionalA / pB)\n",
        "        return shA, shB\n",
        "\n",
        "    def position_sizes_short_spread(beta, pA, pB, notionalA):\n",
        "        shA = -math.floor(notionalA / pA)\n",
        "        shB = math.floor(beta * notionalA / pB)\n",
        "        return shA, shB\n",
        "\n",
        "    def trade_cost(shA, pA, shB, pB, bps):\n",
        "        traded_notional = abs(shA)*pA + abs(shB)*pB\n",
        "        return bps * traded_notional\n",
        "\n",
        "    dates = df_local.index\n",
        "    # Start the loop from the first date in the aligned df_local\n",
        "    for t in range(0, len(dates)):\n",
        "        d = dates[t]\n",
        "        # Need previous day's prices if not the very first day of the backtest window\n",
        "        if t > 0:\n",
        "            d_prev = dates[t-1]\n",
        "            pA_prev = df_local[stockA].iloc[t-1]\n",
        "            pB_prev = df_local[stockB].iloc[t-1]\n",
        "        else: # For the first day, previous prices are the same as current\n",
        "            pA_prev = df_local[stockA].iloc[t]\n",
        "            pB_prev = df_local[stockB].iloc[t]\n",
        "\n",
        "\n",
        "        pA = df_local[stockA].iloc[t]\n",
        "        pB = df_local[stockB].iloc[t]\n",
        "\n",
        "\n",
        "        # Accrue P&L\n",
        "        if pos != 0:\n",
        "            day_pnl = shares_A * (pA - pA_prev) + shares_B * (pB - pB_prev)\n",
        "            equity += day_pnl\n",
        "            trade_pnl += day_pnl\n",
        "            holding_days += 1\n",
        "\n",
        "        # Exit\n",
        "        # Ensure z_local has a value for the current date t before checking exit condition\n",
        "        if t < len(z_local) and pos != 0 and abs(z_local.iloc[t]) < exit_:\n",
        "            cost = trade_cost(shares_A, pA, shares_B, pB, bps_per_leg)\n",
        "            equity -= cost\n",
        "            trades_log_local.append({\n",
        "                'date': d, 'action': 'EXIT', 'pos': pos, 'z': float(z_local.iloc[t]),\n",
        "                'pnl': trade_pnl, 'cost': cost, 'holding_days': holding_days,\n",
        "                'shares_A': shares_A, 'shares_B': shares_B, 'price_A': pA, 'price_B': pB\n",
        "            })\n",
        "            pos = 0\n",
        "            shares_A = shares_B = 0\n",
        "            trade_pnl = 0.0\n",
        "            holding_days = 0\n",
        "\n",
        "        # Entry\n",
        "        # Ensure z_local has a value for the current date t before checking entry condition\n",
        "        if t < len(z_local) and pos == 0:\n",
        "            if z_local.iloc[t] < -entry:\n",
        "                shA, shB = position_sizes_long_spread(b_local, pA, pB, notional_long_leg)\n",
        "                if shA != 0 and shB != 0:\n",
        "                    cost = trade_cost(shA, pA, shB, pB, bps_per_leg)\n",
        "                    equity -= cost\n",
        "                    pos = 1\n",
        "                    shares_A, shares_B = shA, shB\n",
        "                    trade_pnl = 0.0\n",
        "                    holding_days = 0\n",
        "                    trades_log_local.append({\n",
        "                        'date': d, 'action': 'ENTER_LONG', 'pos': pos, 'z': float(z_local.iloc[t]),\n",
        "                        'cost': cost, 'shares_A': shares_A, 'shares_B': shares_B,\n",
        "                        'price_A': pA, 'price_B': pB\n",
        "                    })\n",
        "            elif z_local.iloc[t] > entry:\n",
        "                shA, shB = position_sizes_short_spread(b_local, pA, pB, notional_long_leg)\n",
        "                if shA != 0 and shB != 0:\n",
        "                    cost = trade_cost(shA, pA, shB, pB, bps_per_leg)\n",
        "                    equity -= cost\n",
        "                    pos = -1\n",
        "                    shares_A, shares_B = shA, shB\n",
        "                    trade_pnl = 0.0\n",
        "                    holding_days = 0\n",
        "                    trades_log_local.append({\n",
        "                        'date': d, 'action': 'ENTER_SHORT', 'pos': pos, 'z': float(z_local.iloc[t]),\n",
        "                        'cost': cost, 'shares_A': shares_A, 'shares_B': shares_B,\n",
        "                        'price_A': pA, 'price_B': pB\n",
        "                    })\n",
        "\n",
        "        dates_list.append(d)\n",
        "        portfolio_value_history.append(equity)\n",
        "\n",
        "    # Metrics\n",
        "    portfolio_df_local = pd.DataFrame({'Portfolio_Value': portfolio_value_history}, index=pd.DatetimeIndex(dates_list))\n",
        "    daily = portfolio_df_local['Portfolio_Value'].pct_change().dropna()\n",
        "    if len(daily) == 0:\n",
        "        return {'ENTRY': entry, 'EXIT': exit_, 'Sharpe': np.nan, 'AnnRet': np.nan, 'MaxDD': np.nan, 'Trades': 0}\n",
        "\n",
        "    sharpe = float(np.sqrt(252) * daily.mean() / daily.std())\n",
        "    ann_return = float((1 + daily).prod()**(252/len(daily)) - 1)\n",
        "    portfolio_df_local['Peak'] = portfolio_df_local['Portfolio_Value'].cummax()\n",
        "    max_dd = float((portfolio_df_local['Portfolio_Value'] / portfolio_df_local['Peak'] - 1).min())\n",
        "\n",
        "    trades_df_local = pd.DataFrame(trades_log_local)\n",
        "    exits_local = trades_df_local[trades_df_local['action']=='EXIT'] if not trades_df_local.empty else pd.DataFrame()\n",
        "    n_trades = int(len(exits_local))\n",
        "\n",
        "    return {'ENTRY': entry, 'EXIT': exit_, 'Sharpe': sharpe, 'AnnRet': ann_return, 'MaxDD': max_dd, 'Trades': n_trades}\n",
        "\n",
        "# Run the sweep\n",
        "candidates = []\n",
        "for ENTRY_ in [1.5, 2.0, 2.5]:\n",
        "    for EXIT_ in [0.25, 0.5, 0.75]:\n",
        "        candidates.append(run_backtest(ENTRY_, EXIT_, z_window=30))\n",
        "\n",
        "res_df = pd.DataFrame(candidates).sort_values('Sharpe', ascending=False)\n",
        "print(res_df.head(6).to_string(index=False))"
      ],
      "metadata": {
        "colab": {
          "base_uri": "https://localhost:8080/"
        },
        "id": "CAFU-FHuvbEZ",
        "outputId": "a6ecafec-52e0-49b9-d6c2-00bb30dc12c7"
      },
      "execution_count": 142,
      "outputs": [
        {
          "output_type": "stream",
          "name": "stderr",
          "text": [
            "/tmp/ipython-input-1647211294.py:5: FutureWarning: YF.download() has changed argument auto_adjust default to True\n",
            "  prices = yf.download([stockA, stockB], start='2020-01-01', end='2025-01-01')['Close']\n",
            "[*********************100%***********************]  2 of 2 completed\n"
          ]
        },
        {
          "output_type": "stream",
          "name": "stdout",
          "text": [
            "   ENTRY     EXIT   Sharpe   AnnRet     MaxDD  Trades\n",
            "2.500000 0.750000 0.630460 0.011773 -0.026287      30\n",
            "1.500000 0.750000 0.626494 0.017710 -0.040363      61\n",
            "2.500000 0.500000 0.617562 0.012276 -0.032251      30\n",
            "2.000000 0.750000 0.615179 0.017075 -0.039218      44\n",
            "1.500000 0.250000 0.610960 0.017715 -0.041040      43\n",
            "2.500000 0.250000 0.582772 0.014921 -0.041763      26\n"
          ]
        }
      ]
    },
    {
      "cell_type": "code",
      "source": [
        "# ===== Step 4B: Test z_window ∈ {30, 60, 90} on top ENTRY/EXIT combos =====\n",
        "\n",
        "def run_backtest(entry, exit_, z_window=30, bps_per_leg=0.0002, notional_long_leg=10000.0):\n",
        "    # Recompute spread and z for this window using the global df\n",
        "    pxA_local = df[stockA].dropna()\n",
        "    pxB_local = df[stockB].dropna()\n",
        "    df_local_full = pd.concat([pxA_local, pxB_local], axis=1, keys=[stockA, stockB]).dropna()\n",
        "\n",
        "    logA_local = np.log(df_local_full[stockA])\n",
        "    logB_local = np.log(df_local_full[stockB])\n",
        "\n",
        "    # OLS: logA = a + b*logB (recompute for the potentially filtered df_local_full)\n",
        "    X_local = sm.add_constant(logB_local.values)\n",
        "    ols_local = sm.OLS(logA_local.values, X_local).fit()\n",
        "    a_local, b_local = ols_local.params[0], ols_local.params[1]\n",
        "\n",
        "    # Residual spread (stationary candidate)\n",
        "    spread_local = logA_local - (a_local + b_local*logB_local)\n",
        "    z_local = zscore(spread_local, z_window).dropna()\n",
        "\n",
        "    # Ensure df_local is aligned with the non-NaN z_local\n",
        "    df_local = df_local_full.loc[z_local.index]\n",
        "\n",
        "\n",
        "    # State\n",
        "    initial_capital = 100000.0\n",
        "    equity = initial_capital\n",
        "    pos = 0\n",
        "    shares_A = shares_B = 0\n",
        "    trade_pnl = 0.0\n",
        "    holding_days = 0\n",
        "\n",
        "    portfolio_value_history = []\n",
        "    dates_list = []\n",
        "    trades_log_local = []\n",
        "\n",
        "    def position_sizes_long_spread(beta, pA, pB, notionalA):\n",
        "        shA = math.floor(notionalA / pA)\n",
        "        shB = -math.floor(beta * notionalA / pB)\n",
        "        return shA, shB\n",
        "\n",
        "    def position_sizes_short_spread(beta, pA, pB, notionalA):\n",
        "        shA = -math.floor(notionalA / pA)\n",
        "        shB = math.floor(beta * notionalA / pB)\n",
        "        return shA, shB\n",
        "\n",
        "    def trade_cost(shA, pA, shB, pB, bps):\n",
        "        traded_notional = abs(shA)*pA + abs(shB)*pB\n",
        "        return bps * traded_notional\n",
        "\n",
        "    dates = df_local.index\n",
        "    # Start the loop from the first date in the aligned df_local\n",
        "    for t in range(0, len(dates)):\n",
        "        d = dates[t]\n",
        "        # Need previous day's prices if not the very first day of the backtest window\n",
        "        if t > 0:\n",
        "            d_prev = dates[t-1]\n",
        "            pA_prev = df_local[stockA].iloc[t-1]\n",
        "            pB_prev = df_local[stockB].iloc[t-1]\n",
        "        else: # For the first day, previous prices are the same as current\n",
        "            pA_prev = df_local[stockA].iloc[t]\n",
        "            pB_prev = df_local[stockB].iloc[t]\n",
        "\n",
        "\n",
        "        pA = df_local[stockA].iloc[t]\n",
        "        pB = df_local[stockB].iloc[t]\n",
        "\n",
        "        # Accrue P&L\n",
        "        if pos != 0:\n",
        "            day_pnl = shares_A * (pA - pA_prev) + shares_B * (pB - pB_prev)\n",
        "            equity += day_pnl\n",
        "            trade_pnl += day_pnl\n",
        "            holding_days += 1\n",
        "\n",
        "        # Exit\n",
        "        # Ensure z_local has a value for the current date t before checking exit condition\n",
        "        if t < len(z_local) and pos != 0 and abs(z_local.iloc[t]) < exit_:\n",
        "            cost = trade_cost(shares_A, pA, shares_B, pB, bps_per_leg)\n",
        "            equity -= cost\n",
        "            trades_log_local.append({\n",
        "                'date': d, 'action': 'EXIT', 'pos': pos, 'z': float(z_local.iloc[t]),\n",
        "                'pnl': trade_pnl, 'cost': cost, 'holding_days': holding_days,\n",
        "                'shares_A': shares_A, 'shares_B': shares_B, 'price_A': pA, 'price_B': pB\n",
        "            })\n",
        "            pos = 0\n",
        "            shares_A = shares_B = 0\n",
        "            trade_pnl = 0.0\n",
        "            holding_days = 0\n",
        "\n",
        "        # Entry\n",
        "        # Ensure z_local has a value for the current date t before checking entry condition\n",
        "        if t < len(z_local) and pos == 0:\n",
        "            if z_local.iloc[t] < -entry:\n",
        "                shA, shB = position_sizes_long_spread(b_local, pA, pB, notional_long_leg)\n",
        "                if shA != 0 and shB != 0:\n",
        "                    cost = trade_cost(shA, pA, shB, pB, bps_per_leg)\n",
        "                    equity -= cost\n",
        "                    pos = 1\n",
        "                    shares_A, shares_B = shA, shB\n",
        "                    trade_pnl = 0.0\n",
        "                    holding_days = 0\n",
        "                    trades_log_local.append({\n",
        "                        'date': d, 'action': 'ENTER_LONG', 'pos': pos, 'z': float(z_local.iloc[t]),\n",
        "                        'cost': cost, 'shares_A': shares_A, 'shares_B': shares_B,\n",
        "                        'price_A': pA, 'price_B': pB\n",
        "                    })\n",
        "            elif z_local.iloc[t] > entry:\n",
        "                shA, shB = position_sizes_short_spread(b_local, pA, pB, notional_long_leg)\n",
        "                if shA != 0 and shB != 0:\n",
        "                    cost = trade_cost(shA, pA, shB, pB, bps_per_leg)\n",
        "                    equity -= cost\n",
        "                    pos = -1\n",
        "                    shares_A, shares_B = shA, shB\n",
        "                    trade_pnl = 0.0\n",
        "                    holding_days = 0\n",
        "                    trades_log_local.append({\n",
        "                        'date': d, 'action': 'ENTER_SHORT', 'pos': pos, 'z': float(z_local.iloc[t]),\n",
        "                        'cost': cost, 'shares_A': shares_A, 'shares_B': shares_B,\n",
        "                        'price_A': pA, 'price_B': pB\n",
        "                    })\n",
        "\n",
        "        # Mark-to-market\n",
        "        dates_list.append(d)\n",
        "        portfolio_value_history.append(equity)\n",
        "\n",
        "    # Metrics\n",
        "    portfolio_df_local = pd.DataFrame({'Portfolio_Value': portfolio_value_history}, index=pd.DatetimeIndex(dates_list))\n",
        "    daily = portfolio_df_local['Portfolio_Value'].pct_change().dropna()\n",
        "    if len(daily) == 0:\n",
        "        return {'ENTRY': entry, 'EXIT': exit_, 'z_window': z_window, 'Sharpe': np.nan, 'AnnRet': np.nan, 'MaxDD': np.nan, 'Trades': 0}\n",
        "\n",
        "    sharpe = float(np.sqrt(252) * daily.mean() / daily.std())\n",
        "    ann_return = float((1 + daily).prod()**(252/len(daily)) - 1)\n",
        "    portfolio_df_local['Peak'] = portfolio_df_local['Portfolio_Value'].cummax()\n",
        "    max_dd = float((portfolio_df_local['Portfolio_Value'] / portfolio_df_local['Peak'] - 1).min())\n",
        "\n",
        "    trades_df_local = pd.DataFrame(trades_log_local)\n",
        "    exits_local = trades_df_local[trades_df_local['action']=='EXIT'] if not trades_df_local.empty else pd.DataFrame()\n",
        "    n_trades = int(len(exits_local))\n",
        "\n",
        "    return {'ENTRY': entry, 'EXIT': exit_, 'z_window': z_window, 'Sharpe': sharpe, 'AnnRet': ann_return, 'MaxDD': max_dd, 'Trades': n_trades}\n",
        "\n",
        "# Top threshold sets to test across windows\n",
        "param_sets = [(2.5, 0.75), (2.5, 0.50), (1.5, 0.75)]\n",
        "results = []\n",
        "for zw in [30, 60, 90]:\n",
        "    for entry, exit_ in param_sets:\n",
        "        results.append(run_backtest(entry, exit_, z_window=zw))\n",
        "\n",
        "res_w = pd.DataFrame(results).sort_values(['Sharpe', 'AnnRet'], ascending=False)\n",
        "print(res_w.to_string(index=False))"
      ],
      "metadata": {
        "colab": {
          "base_uri": "https://localhost:8080/"
        },
        "id": "AY-nQ_IkwAFi",
        "outputId": "b5e02f5d-a906-4336-8726-2b407d18a43c"
      },
      "execution_count": 143,
      "outputs": [
        {
          "output_type": "stream",
          "name": "stdout",
          "text": [
            "   ENTRY     EXIT  z_window   Sharpe   AnnRet     MaxDD  Trades\n",
            "2.500000 0.500000        60 0.980363 0.013248 -0.015727      15\n",
            "1.500000 0.750000        60 0.831850 0.017739 -0.018216      41\n",
            "2.500000 0.750000        60 0.778844 0.010164 -0.014905      15\n",
            "2.500000 0.500000        90 0.770911 0.012366 -0.019186      12\n",
            "2.500000 0.750000        30 0.630460 0.011773 -0.026287      30\n",
            "1.500000 0.750000        30 0.626494 0.017710 -0.040363      61\n",
            "2.500000 0.500000        30 0.617562 0.012276 -0.032251      30\n",
            "2.500000 0.750000        90 0.599585 0.009101 -0.022210      12\n",
            "1.500000 0.750000        90 0.524753 0.010505 -0.022292      27\n"
          ]
        }
      ]
    },
    {
      "cell_type": "code",
      "source": [
        "def compute_half_life(z_series):\n",
        "    z = pd.Series(z_series).dropna()\n",
        "    # Regress z_t on z_{t-1}\n",
        "    z_lag = z.shift(1).dropna()\n",
        "    z_now = z.loc[z_lag.index]\n",
        "    X = sm.add_constant(z_lag.values)\n",
        "    res = sm.OLS(z_now.values, X).fit()\n",
        "    phi = res.params[1]\n",
        "    if 0 < phi < 1:\n",
        "        hl = -np.log(2) / np.log(phi)\n",
        "        return float(hl)\n",
        "    else:\n",
        "        return np.nan\n",
        "\n",
        "def run_backtest(entry, exit_, z_window=60, bps_per_leg=0.0002, notional_long_leg=10000.0,\n",
        "                 use_time_stop=True, time_stop_days=None):\n",
        "    # Build z for this window\n",
        "    z_local = zscore(spread, z_window).dropna()\n",
        "    df_local = df.loc[z_local.index]\n",
        "\n",
        "    # Half-life and time-stop\n",
        "    if use_time_stop and time_stop_days is None:\n",
        "        hl = compute_half_life(z_local)\n",
        "        if np.isnan(hl):\n",
        "            time_stop_days = 7  # fallback\n",
        "        else:\n",
        "            time_stop_days = int(np.clip(round(1.5 * hl), 3, 20))\n",
        "    elif not use_time_stop:\n",
        "        time_stop_days = None\n",
        "\n",
        "    initial_capital = 100000.0\n",
        "    equity = initial_capital\n",
        "    pos = 0\n",
        "    shares_A = shares_B = 0\n",
        "    trade_pnl = 0.0\n",
        "    holding_days = 0\n",
        "\n",
        "    portfolio_value_history = []\n",
        "    dates_list = []\n",
        "    trades_log_local = []\n",
        "\n",
        "    def position_sizes_long_spread(beta, pA, pB, notionalA):\n",
        "        shA = math.floor(notionalA / pA)\n",
        "        shB = -math.floor(beta * notionalA / pB)\n",
        "        return shA, shB\n",
        "\n",
        "    def position_sizes_short_spread(beta, pA, pB, notionalA):\n",
        "        shA = -math.floor(notionalA / pA)\n",
        "        shB = math.floor(beta * notionalA / pB)\n",
        "        return shA, shB\n",
        "\n",
        "    def trade_cost(shA, pA, shB, pB, bps):\n",
        "        traded_notional = abs(shA)*pA + abs(shB)*pB\n",
        "        return bps * traded_notional\n",
        "\n",
        "    dates = df_local.index\n",
        "    for t in range(z_window, len(dates)):\n",
        "        d = dates[t]\n",
        "        pA_prev = df_local[stockA].iloc[t-1]\n",
        "        pB_prev = df_local[stockB].iloc[t-1]\n",
        "        pA = df_local[stockA].iloc[t]\n",
        "        pB = df_local[stockB].iloc[t]\n",
        "\n",
        "        # Accrue P&L\n",
        "        if pos != 0:\n",
        "            day_pnl = shares_A * (pA - pA_prev) + shares_B * (pB - pB_prev)\n",
        "            equity += day_pnl\n",
        "            trade_pnl += day_pnl\n",
        "            holding_days += 1\n",
        "\n",
        "        # Exit: revert OR time-stop\n",
        "        time_stop_hit = (time_stop_days is not None) and (holding_days >= time_stop_days) and (pos != 0)\n",
        "        revert_hit = (pos != 0) and (abs(z_local.iloc[t]) < exit_)\n",
        "        if time_stop_hit or revert_hit:\n",
        "            cost = trade_cost(shares_A, pA, shares_B, pB, bps_per_leg)\n",
        "            equity -= cost\n",
        "            trades_log_local.append({\n",
        "                'date': d, 'action': 'EXIT', 'pos': pos, 'z': float(z_local.iloc[t]),\n",
        "                'pnl': trade_pnl, 'cost': cost, 'holding_days': holding_days,\n",
        "                'shares_A': shares_A, 'shares_B': shares_B, 'price_A': pA, 'price_B': pB,\n",
        "                'reason': 'TIME_STOP' if time_stop_hit and not revert_hit else ('REVERT' if revert_hit and not time_stop_hit else 'REVERT+TIME_STOP')\n",
        "            })\n",
        "            pos = 0\n",
        "            shares_A = shares_B = 0\n",
        "            trade_pnl = 0.0\n",
        "            holding_days = 0\n",
        "\n",
        "        # Entry\n",
        "        if pos == 0:\n",
        "            if z_local.iloc[t] < -entry:\n",
        "                shA, shB = position_sizes_long_spread(b, pA, pB, notional_long_leg)\n",
        "                if shA != 0 and shB != 0:\n",
        "                    cost = trade_cost(shA, pA, shB, pB, bps_per_leg)\n",
        "                    equity -= cost\n",
        "                    pos = 1\n",
        "                    shares_A, shares_B = shA, shB\n",
        "                    trade_pnl = 0.0\n",
        "                    holding_days = 0\n",
        "                    trades_log_local.append({\n",
        "                        'date': d, 'action': 'ENTER_LONG', 'pos': pos, 'z': float(z_local.iloc[t]),\n",
        "                        'cost': cost, 'shares_A': shares_A, 'shares_B': shares_B,\n",
        "                        'price_A': pA, 'price_B': pB\n",
        "                    })\n",
        "            elif z_local.iloc[t] > entry:\n",
        "                shA, shB = position_sizes_short_spread(b, pA, pB, notional_long_leg)\n",
        "                if shA != 0 and shB != 0:\n",
        "                    cost = trade_cost(shA, pA, shB, pB, bps_per_leg)\n",
        "                    equity -= cost\n",
        "                    pos = -1\n",
        "                    shares_A, shares_B = shA, shB\n",
        "                    trade_pnl = 0.0\n",
        "                    holding_days = 0\n",
        "                    trades_log_local.append({\n",
        "                        'date': d, 'action': 'ENTER_SHORT', 'pos': pos, 'z': float(z_local.iloc[t]),\n",
        "                        'cost': cost, 'shares_A': shares_A, 'shares_B': shares_B,\n",
        "                        'price_A': pA, 'price_B': pB\n",
        "                    })\n",
        "\n",
        "        dates_list.append(d)\n",
        "        portfolio_value_history.append(equity)\n",
        "\n",
        "    # Metrics\n",
        "    portfolio_df_local = pd.DataFrame({'Portfolio_Value': portfolio_value_history}, index=pd.DatetimeIndex(dates_list))\n",
        "    daily = portfolio_df_local['Portfolio_Value'].pct_change().dropna()\n",
        "    if len(daily) == 0:\n",
        "        return {'ENTRY': entry, 'EXIT': exit_, 'z_window': z_window, 'time_stop_days': time_stop_days,\n",
        "                'Sharpe': np.nan, 'AnnRet': np.nan, 'MaxDD': np.nan, 'Trades': 0}\n",
        "\n",
        "    sharpe = float(np.sqrt(252) * daily.mean() / daily.std())\n",
        "    ann_return = float((1 + daily).prod()**(252/len(daily)) - 1)\n",
        "    portfolio_df_local['Peak'] = portfolio_df_local['Portfolio_Value'].cummax()\n",
        "    max_dd = float((portfolio_df_local['Portfolio_Value'] / portfolio_df_local['Peak'] - 1).min())\n",
        "\n",
        "    trades_df_local = pd.DataFrame(trades_log_local)\n",
        "    exits_local = trades_df_local[trades_df_local['action']=='EXIT'] if not trades_df_local.empty else pd.DataFrame()\n",
        "    n_trades = int(len(exits_local))\n",
        "    time_stop_share = float((exits_local['reason'] == 'TIME_STOP').mean()) if 'reason' in exits_local else np.nan\n",
        "\n",
        "    return {\n",
        "        'ENTRY': entry, 'EXIT': exit_, 'z_window': z_window, 'time_stop_days': time_stop_days,\n",
        "        'Sharpe': sharpe, 'AnnRet': ann_return, 'MaxDD': max_dd, 'Trades': n_trades,\n",
        "        'TimeStopShare': time_stop_share\n",
        "    }\n",
        "\n",
        "# Run with your current best params and time-stop enabled\n",
        "res_base = run_backtest(entry=2.5, exit_=0.5, z_window=60, use_time_stop=False)\n",
        "print(pd.Series(res_base))\n",
        "\n",
        "res_ts8 = run_backtest(entry=2.5, exit_=0.5, z_window=60, use_time_stop=True, time_stop_days=8)\n",
        "print(pd.Series(res_ts8))\n",
        "\n",
        "res_ts16 = run_backtest(entry=2.5, exit_=0.5, z_window=60, use_time_stop=True, time_stop_days=16)\n",
        "print(pd.Series(res_ts16))\n",
        "\n",
        "res_base2 = run_backtest(entry=2.0, exit_=0.5, z_window=60, use_time_stop=False)\n",
        "print(pd.Series(res_base2))\n",
        "\n",
        "res_2p8 = run_backtest(entry=2.0, exit_=0.5, z_window=60, use_time_stop=True, time_stop_days=8)\n",
        "print(pd.Series(res_2p8))\n",
        "\n",
        "res_2p16 = run_backtest(entry=2.0, exit_=0.5, z_window=60, use_time_stop=True, time_stop_days=16)\n",
        "print(pd.Series(res_2p16))"
      ],
      "metadata": {
        "colab": {
          "base_uri": "https://localhost:8080/"
        },
        "id": "8JmvpaXrxybu",
        "outputId": "54fbe122-5b6f-485c-e5c3-ca4e8249a213"
      },
      "execution_count": 144,
      "outputs": [
        {
          "output_type": "stream",
          "name": "stdout",
          "text": [
            "ENTRY             2.500000\n",
            "EXIT              0.500000\n",
            "z_window         60.000000\n",
            "time_stop_days         NaN\n",
            "Sharpe            0.861263\n",
            "AnnRet            0.011467\n",
            "MaxDD            -0.015902\n",
            "Trades           14.000000\n",
            "TimeStopShare     0.000000\n",
            "dtype: float64\n",
            "ENTRY             2.500000\n",
            "EXIT              0.500000\n",
            "z_window         60.000000\n",
            "time_stop_days    8.000000\n",
            "Sharpe            0.548498\n",
            "AnnRet            0.004298\n",
            "MaxDD            -0.010816\n",
            "Trades           15.000000\n",
            "TimeStopShare     0.866667\n",
            "dtype: float64\n",
            "ENTRY             2.500000\n",
            "EXIT              0.500000\n",
            "z_window         60.000000\n",
            "time_stop_days   16.000000\n",
            "Sharpe            0.634261\n",
            "AnnRet            0.006522\n",
            "MaxDD            -0.016439\n",
            "Trades           15.000000\n",
            "TimeStopShare     0.533333\n",
            "dtype: float64\n",
            "ENTRY             2.000000\n",
            "EXIT              0.500000\n",
            "z_window         60.000000\n",
            "time_stop_days         NaN\n",
            "Sharpe            1.344516\n",
            "AnnRet            0.024527\n",
            "MaxDD            -0.021027\n",
            "Trades           26.000000\n",
            "TimeStopShare     0.000000\n",
            "dtype: float64\n",
            "ENTRY             2.000000\n",
            "EXIT              0.500000\n",
            "z_window         60.000000\n",
            "time_stop_days    8.000000\n",
            "Sharpe            1.442568\n",
            "AnnRet            0.020983\n",
            "MaxDD            -0.014266\n",
            "Trades           37.000000\n",
            "TimeStopShare     0.702703\n",
            "dtype: float64\n",
            "ENTRY             2.000000\n",
            "EXIT              0.500000\n",
            "z_window         60.000000\n",
            "time_stop_days   16.000000\n",
            "Sharpe            1.540935\n",
            "AnnRet            0.024941\n",
            "MaxDD            -0.013193\n",
            "Trades           30.000000\n",
            "TimeStopShare     0.466667\n",
            "dtype: float64\n"
          ]
        }
      ]
    }
  ]
}